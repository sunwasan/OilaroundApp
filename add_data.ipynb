{
 "cells": [
  {
   "cell_type": "code",
   "execution_count": 25,
   "metadata": {},
   "outputs": [],
   "source": [
    "import random\n",
    "import requests"
   ]
  },
  {
   "cell_type": "code",
   "execution_count": null,
   "metadata": {},
   "outputs": [],
   "source": [
    "https://raw.githubusercontent.com/sunwasan/OilaroundApp/master/assets/car/"
   ]
  },
  {
   "cell_type": "code",
   "execution_count": 14,
   "metadata": {},
   "outputs": [],
   "source": [
    "local_data = [\n",
    "    {\n",
    "        \"value\": \"1\",\n",
    "        \"label\": \"Suzuki Ciaz\",\n",
    "        \"image\": \"https://raw.githubusercontent.com/sunwasan/OilaroundApp/master/assets/car/suzuki.png\",\n",
    "        \"data\": {\n",
    "            \"labels\": [\"January\", \"February\", \"March\", \"April\", \"May\", \"June\"],\n",
    "            \"chart_data\": [\n",
    "                {\n",
    "                    \"line_data\": [\n",
    "                        random.random() * 100,\n",
    "                        random.random() * 100,\n",
    "                        random.random() * 100,\n",
    "                        random.random() * 100,\n",
    "                        random.random() * 100,\n",
    "                        random.random() * 100,\n",
    "                    ],\n",
    "                    \"bar_data\": [\n",
    "                        random.random() * 100,\n",
    "                        random.random() * 100,\n",
    "                        random.random() * 100,\n",
    "                        random.random() * 100,\n",
    "                        random.random() * 100,\n",
    "                        random.random() * 100,\n",
    "                    ],\n",
    "                },\n",
    "            ],\n",
    "        },\n",
    "        \"favorite_station\": [\"bangchak\", \"ptt\"],\n",
    "    },\n",
    "    {\n",
    "        \"value\": \"2\",\n",
    "        \"label\": \"Toyota Camry\",\n",
    "        \"image\": \"https://raw.githubusercontent.com/sunwasan/OilaroundApp/master/assets/car/camry.png\",\n",
    "        \"favorite_station\": [\"shell\", \"ptt\"],\n",
    "        \"data\": {\n",
    "            \"labels\": [\"January\", \"February\", \"March\", \"April\", \"May\", \"June\"],\n",
    "            \"chart_data\": [\n",
    "                {\n",
    "                    \"line_data\": [\n",
    "                        random.random() * 100,\n",
    "                        random.random() * 100,\n",
    "                        random.random() * 100,\n",
    "                        random.random() * 100,\n",
    "                        random.random() * 100,\n",
    "                        random.random() * 100,\n",
    "                    ],\n",
    "                    \"bar_data\": [\n",
    "                        random.random() * 100,\n",
    "                        random.random() * 100,\n",
    "                        random.random() * 100,\n",
    "                        random.random() * 100,\n",
    "                        random.random() * 100,\n",
    "                        random.random() * 100,\n",
    "                    ],\n",
    "                },\n",
    "            ],\n",
    "        },\n",
    "    },\n",
    "    {\n",
    "        \"value\": \"3\",\n",
    "        \"label\": \"BMW\",\n",
    "        \"image\": \"https://raw.githubusercontent.com/sunwasan/OilaroundApp/master/assets/car/bmw.png\",\n",
    "        \"favorite_station\": [\"shell\", \"ptt\"],\n",
    "        \"data\": {\n",
    "            \"labels\": [\"January\", \"February\", \"March\", \"April\", \"May\", \"June\"],\n",
    "            \"chart_data\": [\n",
    "                {\n",
    "                    \"line_data\": [\n",
    "                        random.random() * 100,\n",
    "                        random.random() * 100,\n",
    "                        random.random() * 100,\n",
    "                        random.random() * 100,\n",
    "                        random.random() * 100,\n",
    "                        random.random() * 100,\n",
    "                    ],\n",
    "                    \"bar_data\": [\n",
    "                        random.random() * 100,\n",
    "                        random.random() * 100,\n",
    "                        random.random() * 100,\n",
    "                        random.random() * 100,\n",
    "                        random.random() * 100,\n",
    "                        random.random() * 100,\n",
    "                    ],\n",
    "                },\n",
    "            ],\n",
    "        },\n",
    "    },\n",
    "    {\n",
    "        \"value\": \"4\",\n",
    "        \"label\": \"Mercedes\",\n",
    "        \"image\": \"https://raw.githubusercontent.com/sunwasan/OilaroundApp/master/assets/car/suzuki.png\",\n",
    "        \"favorite_station\": [\"shell\", \"ptt\"],\n",
    "        \"data\": {\n",
    "            \"labels\": [\"January\", \"February\", \"March\", \"April\", \"May\", \"June\"],\n",
    "            \"chart_data\": [\n",
    "                {\n",
    "                    \"line_data\": [\n",
    "                        random.random() * 100,\n",
    "                        random.random() * 100,\n",
    "                        random.random() * 100,\n",
    "                        random.random() * 100,\n",
    "                        random.random() * 100,\n",
    "                        random.random() * 100,\n",
    "                    ],\n",
    "                    \"bar_data\": [\n",
    "                        random.random() * 100,\n",
    "                        random.random() * 100,\n",
    "                        random.random() * 100,\n",
    "                        random.random() * 100,\n",
    "                        random.random() * 100,\n",
    "                        random.random() * 100,\n",
    "                    ],\n",
    "                },\n",
    "            ],\n",
    "        },\n",
    "    },\n",
    "]\n"
   ]
  },
  {
   "cell_type": "code",
   "execution_count": null,
   "metadata": {},
   "outputs": [],
   "source": [
    "https://www.google.co.th/maps/place/PTT+Station+%E0%B8%9B%E0%B8%95%E0%B8%97.+%E0%B8%AA%E0%B8%B2%E0%B8%82%E0%B8%B2+%E0%B9%80%E0%B8%8A%E0%B8%B5%E0%B8%A2%E0%B8%87%E0%B8%A3%E0%B8%B2%E0%B8%81+(%E0%B8%99%E0%B9%89%E0%B8%B3%E0%B8%A1%E0%B8%B1%E0%B8%99%2BLPG%2BEV)/@14.0721558,100.5356258,14z/data=!4m10!1m2!2m1!1sgas+station!3m6!1s0x30e27e345c2d0945:0x79ed1c0bd60b024a!8m2!3d14.0720802!4d100.5716256!15sCgtnYXMgc3RhdGlvbpIBC2dhc19zdGF0aW9u4AEA!16s%2Fg%2F1hf6s912s?hl=th&entry=ttu"
   ]
  },
  {
   "cell_type": "code",
   "execution_count": 26,
   "metadata": {},
   "outputs": [],
   "source": [
    "\n",
    "\n",
    "station_data = [\n",
    "    {\"ptt\": [14.06743730609855, 100.60626445477597]},\n",
    "    {\"ptt\": [14.073658824975189, 100.61800075772594]},\n",
    "    {\"bangchak\": [14.065855596312566, 100.62415255573373]},\n",
    "    {\"ptt\": [14.066679152878807, 100.62468600076261]},\n",
    "    {\"pt\": [14.06526378073469, 100.6252009848637]},\n",
    "    {\"bangchak\": [14.057853748246504, 100.61799120743854]},\n",
    "    {\"bangchak\": [14.058436568481495, 100.6166179165023]},\n",
    "    {\"pt\": [14.04887414742903, 100.6162143279066]},\n",
    "    {\"ptt\": [14.044015354241978, 100.61583199569998]},\n",
    "    {\"bangchak\": [14.042346279384471, 100.61602316181215]},\n",
    "    {\"ptt\": [14.072876616636758, 100.57149057007088]},\n",
    "]\n",
    "import requests\n",
    "station_location = []\n",
    "for data in station_data:\n",
    "    for key, value in data.items():\n",
    "        station_location.append({\"station\": key, \"latitude\": value[0], \"longitude\": value[1]})\n",
    "        \n",
    "        \n",
    "\n",
    "for station in station_location:\n",
    "    requests.post(\"http://192.168.137.1:8000/api/stationlocation/\", json=station)"
   ]
  },
  {
   "cell_type": "code",
   "execution_count": 27,
   "metadata": {},
   "outputs": [],
   "source": [
    "import requests\n",
    "carData = [\n",
    "    {\n",
    "        \"carDataId\": \"suzuki_ciaz\", # \"carBrand\" + \"_\" + \"carModel\"\n",
    "        \"carBrand\": \"Suzuki\",\n",
    "        \"carModel\": \"Ciaz\",\n",
    "        \"carImage\": \"https://raw.githubusercontent.com/sunwasan/OilaroundApp/master/assets/car/suzuki.png\",\n",
    "    \n",
    "    },\n",
    "    {\n",
    "        \"carDataId\": \"toyota_camry\",\n",
    "        \"carBrand\": \"Toyota\",\n",
    "        \"carModel\": \"Camry\",\n",
    "        \"carImage\": \"https://raw.githubusercontent.com/sunwasan/OilaroundApp/master/assets/car/camry.png\",\n",
    "    \n",
    "    },\n",
    "    {\n",
    "        \"carDataId\": \"bmw_xx\",\n",
    "        \"carBrand\": \"BMW\",\n",
    "        \"carModel\": \"xx\",\n",
    "        \"carImage\": \"https://raw.githubusercontent.com/sunwasan/OilaroundApp/master/assets/car/bmw.png\",\n",
    "    \n",
    "    },\n",
    "    {\n",
    "        \"carDataId\": \"mercedes_xx\",\n",
    "        \"carBrand\": \"Mercedes\",\n",
    "        \"carModel\": \"xx\",\n",
    "        \"carImage\": \"https://raw.githubusercontent.com/sunwasan/OilaroundApp/master/assets/car/suzuki.png\",\n",
    "    \n",
    "    },\n",
    "]\n",
    "\n",
    "for data in carData:\n",
    "    requests.post(\"http://192.168.137.1:8000/api/cardata/\", json=data)"
   ]
  },
  {
   "cell_type": "code",
   "execution_count": 28,
   "metadata": {},
   "outputs": [],
   "source": [
    "station_list = [\n",
    "    {'ptt': \"https://raw.githubusercontent.com/sunwasan/OilaroundApp/master/assets/oillogo/ptt.png\"},\n",
    "    {'bangchak': \"https://raw.githubusercontent.com/sunwasan/OilaroundApp/master/assets/oillogo/bangchak.png\"},\n",
    "    {'shell': \"https://raw.githubusercontent.com/sunwasan/OilaroundApp/master/assets/oillogo/shell.png\"},\n",
    "    {'caltex': \"https://raw.githubusercontent.com/sunwasan/OilaroundApp/master/assets/oillogo/caltex.png\"},\n",
    "]\n",
    "\n",
    "station_img = [{\"station\": key, \"image\": value} for item in station_list for key, value in item.items()]\n",
    "for img in station_img:\n",
    "    requests.post(\"http://192.168.137.1:8000/api/stationimage/\", json=img)"
   ]
  },
  {
   "cell_type": "code",
   "execution_count": 2,
   "metadata": {},
   "outputs": [],
   "source": [
    "import requests"
   ]
  },
  {
   "cell_type": "code",
   "execution_count": 12,
   "metadata": {},
   "outputs": [
    {
     "data": {
      "text/plain": [
       "{'id': 2,\n",
       " 'carId': 'ibroycv5z',\n",
       " 'carBrand': 'BMW',\n",
       " 'carModel': 'xx',\n",
       " 'carPlateNumber': 'x123xx',\n",
       " 'carDescription': 'รถพี่',\n",
       " 'carDataId': 'bmw_xx'}"
      ]
     },
     "execution_count": 12,
     "metadata": {},
     "output_type": "execute_result"
    }
   ],
   "source": [
    "r = requests.get(\"http://192.168.137.1:8000/api/carprofile/ibroycv5z/\")\n",
    "r.json()"
   ]
  },
  {
   "cell_type": "code",
   "execution_count": 7,
   "metadata": {},
   "outputs": [
    {
     "data": {
      "text/plain": [
       "[{'id': 1,\n",
       "  'carId': 'rowjcdbwa',\n",
       "  'carBrand': 'Suzuki',\n",
       "  'carModel': 'Ciaz',\n",
       "  'carPlateNumber': '2mx330',\n",
       "  'carDescription': 'รถพ่อ',\n",
       "  'carDataId': 'suzuki_ciaz'},\n",
       " {'id': 2,\n",
       "  'carId': 'ibroycv5z',\n",
       "  'carBrand': 'BMW',\n",
       "  'carModel': 'xx',\n",
       "  'carPlateNumber': 'x123xx',\n",
       "  'carDescription': 'รถพี่',\n",
       "  'carDataId': 'bmw_xx'}]"
      ]
     },
     "execution_count": 7,
     "metadata": {},
     "output_type": "execute_result"
    }
   ],
   "source": []
  }
 ],
 "metadata": {
  "kernelspec": {
   "display_name": "myvenv",
   "language": "python",
   "name": "python3"
  },
  "language_info": {
   "codemirror_mode": {
    "name": "ipython",
    "version": 3
   },
   "file_extension": ".py",
   "mimetype": "text/x-python",
   "name": "python",
   "nbconvert_exporter": "python",
   "pygments_lexer": "ipython3",
   "version": "3.12.2"
  }
 },
 "nbformat": 4,
 "nbformat_minor": 2
}
